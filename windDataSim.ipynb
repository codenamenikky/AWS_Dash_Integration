{
 "cells": [
  {
   "cell_type": "markdown",
   "metadata": {},
   "source": [
    "## Wind Speed Display Application\n",
    "\n",
    "The intent of this application is to give an overview of how advanced energy companies can use AWS cloud to build applications that can be useful in the energy world. This solution was easy to develop, but it would be more useful to iterate to an ideal solution than to try and get a complete solution all at once. Below is a quick iteration cycle about how I went about both learning about AWS and developing this solution. The final application can be found [here](http://dash-trail-env1.dmmtiygmw2.us-east-1.elasticbeanstalk.com/). \n",
    "\n",
    "Iteration | Desc | AWS service\n",
    "--- | --- | ---\n",
    "1 | run dash script locally | none\n",
    "2 | run dyanamodb locally | dyanmodb on docker, IAM\n",
    "3 | create and connect dyanamodb | dynamodb, IAM\n",
    "4 | create a fake Sensor and run ec2| ec2, IAM\n",
    "5 | change the dash script to run on beanstack| beanstack, IAM\n",
    "\n",
    "By following an iterative approch, you can bring in different solutions in a progressive manner into your application stack. This is more managable than moving your complete platform into the cloud all at once. \n",
    "\n",
    "Below I will try to outline the major steps in creating this prototype. \n",
    "\n",
    "### Import the required libraries \n",
    "boto3 is the python client for AWS. "
   ]
  },
  {
   "cell_type": "code",
   "execution_count": 1,
   "metadata": {},
   "outputs": [],
   "source": [
    "import plotly.plotly as py\n",
    "from plotly.graph_objs import *\n",
    "from scipy.optimize import curve_fit\n",
    "import numpy as np\n",
    "import pandas as pd\n",
    "from scipy.stats import norm\n",
    "import plotly.figure_factory as ff\n",
    "import math\n",
    "from scipy.stats import skewnorm\n",
    "import datetime as dt\n",
    "import boto3\n",
    "from decimal import Decimal\n",
    "from boto3.dynamodb.conditions import Key, Attr"
   ]
  },
  {
   "cell_type": "markdown",
   "metadata": {},
   "source": [
    "### Resource connection\n",
    "Below we are going to initiate a resource from boto3. If you are using a local docker container, you need to provide the local docker endpoint url. --endpoint-url http://localhost:8000 "
   ]
  },
  {
   "cell_type": "code",
   "execution_count": 2,
   "metadata": {},
   "outputs": [],
   "source": [
    "dynamodb = boto3.resource('dynamodb', region_name='us-east-1') "
   ]
  },
  {
   "cell_type": "markdown",
   "metadata": {},
   "source": [
    "### Getting data from the database \n",
    "\n",
    "Below is a sample application on how to get the data from the database. "
   ]
  },
  {
   "cell_type": "code",
   "execution_count": null,
   "metadata": {},
   "outputs": [],
   "source": [
    "def getMetaData(inputTag):\n",
    "    metaWeatherDatatable = dynamodb.Table('metaWeatherDatatable')\n",
    "    response = metaWeatherDatatable.get_item(\n",
    "    Key={\n",
    "        'tag':inputTag\n",
    "    }\n",
    "    )    \n",
    "    return response['Item']\n"
   ]
  },
  {
   "cell_type": "markdown",
   "metadata": {},
   "source": [
    "### Delete and insert data \n",
    "Below is a sample application on how we can insert data into the database. "
   ]
  },
  {
   "cell_type": "code",
   "execution_count": null,
   "metadata": {},
   "outputs": [],
   "source": [
    "def updateMetaData(inputData):\n",
    "    # TODO: Need to update the meta data only when the date is older than update date \n",
    "    metaWeatherDatatable = dynamodb.Table('metaWeatherDatatable')\n",
    "    response=metaWeatherDatatable.query(\n",
    "        KeyConditionExpression = Key('tag').eq(inputData['tag'])\n",
    "    )\n",
    "    try:        \n",
    "        data = response['Items'][0]\n",
    "    except:\n",
    "        data = None\n",
    "    if data:        \n",
    "        metaWeatherDatatable.delete_item(\n",
    "        Key={\n",
    "            'tag':inputData['tag']        \n",
    "        }\n",
    "        )\n",
    "        metaWeatherDatatable.put_item(\n",
    "            Item=inputData\n",
    "        )\n",
    "        finalResponse = 'Updated Data'\n",
    "    else:\n",
    "        print(\"noData\")\n",
    "        finalResponse = metaWeatherDatatable.put_item(Item=inputData)\n",
    "    return finalResponse\n"
   ]
  },
  {
   "cell_type": "code",
   "execution_count": null,
   "metadata": {},
   "outputs": [],
   "source": [
    "def putIntialData():\n",
    "        timestamp = '2019-04-08 12:12:00'\n",
    "        data = [\n",
    "        {\n",
    "            'tag':'Speed',\n",
    "            'timestamp':timestamp,\n",
    "            'value':Decimal(12.0)\n",
    "        },\n",
    "        {\n",
    "            'tag':'SpeedError',\n",
    "            'timestamp':timestamp,\n",
    "            'value':Decimal(2.0)\n",
    "        },\n",
    "        {\n",
    "            'tag':'Direction',\n",
    "            'timestamp':timestamp,\n",
    "            'value':Decimal(40)\n",
    "        }\n",
    "        \n",
    "        ]\n"
   ]
  },
  {
   "cell_type": "markdown",
   "metadata": {},
   "source": [
    "### Fake sensor\n",
    "\n",
    "This is the fake sensor script. It's straightforward: it uses numpy and random number generation to essentially create a bunch of data points for the database. This script is eventually run on the ec2 server continiously so that we can create a bunch of fake data from an imaginary sensor.  "
   ]
  },
  {
   "cell_type": "code",
   "execution_count": null,
   "metadata": {},
   "outputs": [],
   "source": [
    "def getSensorData():    \n",
    "    now = dt.datetime.now()\n",
    "    sec = now.second\n",
    "    minute = now.minute\n",
    "    hour = now.hour\n",
    "    stTimestamp = dt.datetime(now.year, now.month, now.day, hour,minute,sec)\n",
    "    try:\n",
    "        prevVal = getMetaData('Speed')['value'] #starting wind speed to seed the random function     \n",
    "    except:\n",
    "        prevVal=20.0\n",
    "    try:\n",
    "        prevOrientation = getMetaData('Direction')['value'] #starting orentation of the wind direction\n",
    "    except:\n",
    "        prevOrientation = 50\n",
    "    if(round(prevVal) > 45):\n",
    "        prevVal = int(math.floor(prevVal))\n",
    "    elif(round(prevVal) < 10):\n",
    "        prevVal = int(math.ceil(prevVal))\n",
    "    else:\n",
    "        prevVal = int(round(prevVal))\n",
    "\n",
    "\n",
    "    Speed=np.random.normal(prevVal, 2, 1)[0]\n",
    "    SpeedError = np.random.normal(round(prevVal/10), 1)\n",
    "    timestamp = stTimestamp.strftime(\"%Y-%m-%d %H:%M:%S\")\n",
    "\n",
    "    if(minute % 5 == 0):\n",
    "        Direction = np.random.uniform(prevOrientation-50,\n",
    "                                                prevOrientation+50)\n",
    "    else:\n",
    "        Direction = np.random.uniform(prevOrientation-5,\n",
    "                                                prevOrientation+5)\n",
    "    data = [\n",
    "        {\n",
    "            'tag':'Speed',\n",
    "            'timestamp':timestamp,\n",
    "            'value':Decimal(str(Speed))\n",
    "        },\n",
    "        {\n",
    "            'tag':'SpeedError',\n",
    "            'timestamp':timestamp,\n",
    "            'value':Decimal(str(SpeedError))\n",
    "        },\n",
    "        {\n",
    "            'tag':'Direction',\n",
    "            'timestamp':timestamp,\n",
    "            'value':Decimal(str(Direction))\n",
    "        }\n",
    "        \n",
    "    ]\n",
    "    return data\n"
   ]
  },
  {
   "cell_type": "markdown",
   "metadata": {},
   "source": [
    "### Create tables\n",
    "Below is how we can create tables into the database."
   ]
  },
  {
   "cell_type": "code",
   "execution_count": null,
   "metadata": {},
   "outputs": [],
   "source": [
    "weatherDatatable=dynamodb.create_table(\n",
    "    TableName='weatherData',\n",
    "    KeySchema=[\n",
    "        {\n",
    "            'AttributeName': 'tag',\n",
    "            'KeyType': 'HASH'\n",
    "        },\n",
    "        {\n",
    "            'AttributeName': 'timestamp',\n",
    "            'KeyType': 'RANGE'\n",
    "        }\n",
    "    ],\n",
    "    AttributeDefinitions=[\n",
    "        {\n",
    "            'AttributeName': 'tag',\n",
    "            'AttributeType': 'S'\n",
    "        },\n",
    "        {\n",
    "            'AttributeName': 'timestamp',\n",
    "            'AttributeType': 'S'\n",
    "        },\n",
    "    ],\n",
    "    \n",
    "        ProvisionedThroughput={\n",
    "        'ReadCapacityUnits': 5,\n",
    "        'WriteCapacityUnits': 5\n",
    "    }\n",
    ")\n",
    "\n",
    "\n"
   ]
  },
  {
   "cell_type": "code",
   "execution_count": null,
   "metadata": {},
   "outputs": [],
   "source": [
    "metaWeatherDatatable=dynamodb.create_table(\n",
    "    TableName='metaWeatherDatatable',\n",
    "    KeySchema=[\n",
    "        {\n",
    "            'AttributeName': 'tag',\n",
    "            'KeyType': 'HASH'\n",
    "        }\n",
    "    ],\n",
    "    AttributeDefinitions=[\n",
    "        {\n",
    "            'AttributeName': 'tag',\n",
    "            'AttributeType': 'S'\n",
    "        }\n",
    "    ],\n",
    "    \n",
    "        ProvisionedThroughput={\n",
    "        'ReadCapacityUnits': 2,\n",
    "        'WriteCapacityUnits': 2\n",
    "    }\n",
    ")"
   ]
  },
  {
   "cell_type": "markdown",
   "metadata": {},
   "source": [
    "### Create high-level objects\n",
    "Below is how we can create a high-level object. Once the object is created we can utilize it to perform various operations. "
   ]
  },
  {
   "cell_type": "code",
   "execution_count": 3,
   "metadata": {},
   "outputs": [
    {
     "name": "stdout",
     "output_type": "stream",
     "text": [
      "1150\n"
     ]
    }
   ],
   "source": [
    "weatherDatatable = dynamodb.Table('weatherData')\n",
    "weatherDatatable.meta.client.get_waiter('table_exists').wait(TableName='weatherData')\n",
    "print(weatherDatatable.item_count)"
   ]
  },
  {
   "cell_type": "code",
   "execution_count": 4,
   "metadata": {},
   "outputs": [
    {
     "name": "stdout",
     "output_type": "stream",
     "text": [
      "2019-04-09 18:27:27.310000-04:00\n"
     ]
    }
   ],
   "source": [
    "print(weatherDatatable.creation_date_time)"
   ]
  },
  {
   "cell_type": "markdown",
   "metadata": {},
   "source": [
    "Below is a sample response for getting data. "
   ]
  },
  {
   "cell_type": "code",
   "execution_count": 5,
   "metadata": {},
   "outputs": [
    {
     "name": "stdout",
     "output_type": "stream",
     "text": [
      "{'ResponseMetadata': {'RequestId': '9O6R06ERHL4QA9N8IKOCOTSN27VV4KQNSO5AEMVJF66Q9ASUAAJG', 'HTTPStatusCode': 200, 'HTTPHeaders': {'server': 'Server', 'date': 'Thu, 11 Apr 2019 00:48:09 GMT', 'content-type': 'application/x-amz-json-1.0', 'content-length': '2', 'connection': 'keep-alive', 'x-amzn-requestid': '9O6R06ERHL4QA9N8IKOCOTSN27VV4KQNSO5AEMVJF66Q9ASUAAJG', 'x-amz-crc32': '2745614147'}, 'RetryAttempts': 0}}\n"
     ]
    }
   ],
   "source": [
    "response=weatherDatatable.get_item(\n",
    "Key={\n",
    "    'tag':'windSpeed',\n",
    "    'timestamp':'2019-04-07 19:50:00'\n",
    "}\n",
    ")\n",
    "print(response)"
   ]
  },
  {
   "cell_type": "markdown",
   "metadata": {},
   "source": [
    "Below is a sample insert statement into the datbase. "
   ]
  },
  {
   "cell_type": "code",
   "execution_count": null,
   "metadata": {},
   "outputs": [],
   "source": [
    "weatherDatatable.put_item(Item=dbRow)"
   ]
  },
  {
   "cell_type": "code",
   "execution_count": null,
   "metadata": {},
   "outputs": [],
   "source": [
    "weatherDatatable.delete_item(\n",
    "Key={\n",
    "    'tag':'windDirection',\n",
    "    'timestamp':'2019-04-08 04:40:00',        \n",
    "}\n",
    ")"
   ]
  },
  {
   "cell_type": "markdown",
   "metadata": {},
   "source": [
    "Below is how we can get data based on key value.  "
   ]
  },
  {
   "cell_type": "code",
   "execution_count": null,
   "metadata": {},
   "outputs": [],
   "source": [
    "def getallTagData(inputTag):\n",
    "    weatherDatatable = dynamodb.Table('weatherData')\n",
    "    response=weatherDatatable.query(\n",
    "        KeyConditionExpression =Key('tag').eq(inputTag)\n",
    "    )\n",
    "    items = response['Items']\n",
    "    return items"
   ]
  }
 ],
 "metadata": {
  "kernelspec": {
   "display_name": "amz",
   "language": "python",
   "name": "amz"
  },
  "language_info": {
   "codemirror_mode": {
    "name": "ipython",
    "version": 3
   },
   "file_extension": ".py",
   "mimetype": "text/x-python",
   "name": "python",
   "nbconvert_exporter": "python",
   "pygments_lexer": "ipython3",
   "version": "3.6.5"
  }
 },
 "nbformat": 4,
 "nbformat_minor": 2
}
